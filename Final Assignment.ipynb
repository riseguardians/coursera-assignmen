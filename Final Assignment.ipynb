{
 "cells": [
  {
   "cell_type": "markdown",
   "metadata": {},
   "source": [
    "<p style=\"text-align:center\">\n",
    "    <a href=\"https://skills.network/?utm_medium=Exinfluencer&utm_source=Exinfluencer&utm_content=000026UJ&utm_term=10006555&utm_id=NA-SkillsNetwork-Channel-SkillsNetworkCoursesIBMDeveloperSkillsNetworkPY0220ENSkillsNetwork900-2022-01-01\" target=\"_blank\">\n",
    "    <img src=\"https://cf-courses-data.s3.us.cloud-object-storage.appdomain.cloud/assets/logos/SN_web_lightmode.png\" width=\"200\" alt=\"Skills Network Logo\">\n",
    "    </a>\n",
    "</p>\n"
   ]
  },
  {
   "cell_type": "markdown",
   "metadata": {},
   "source": [
    "<h1>Extracting and Visualizing Stock Data</h1>\n",
    "<h2>Description</h2>\n"
   ]
  },
  {
   "cell_type": "markdown",
   "metadata": {},
   "source": [
    "Extracting essential data from a dataset and displaying it is a necessary part of data science; therefore individuals can make correct decisions based on the data. In this assignment, you will extract some stock data, you will then display this data in a graph.\n"
   ]
  },
  {
   "cell_type": "markdown",
   "metadata": {},
   "source": [
    "<h2>Table of Contents</h2>\n",
    "<div class=\"alert alert-block alert-info\" style=\"margin-top: 20px\">\n",
    "    <ul>\n",
    "        <li>Define a Function that Makes a Graph</li>\n",
    "        <li>Question 1: Use yfinance to Extract Stock Data</li>\n",
    "        <li>Question 2: Use Webscraping to Extract Tesla Revenue Data</li>\n",
    "        <li>Question 3: Use yfinance to Extract Stock Data</li>\n",
    "        <li>Question 4: Use Webscraping to Extract GME Revenue Data</li>\n",
    "        <li>Question 5: Plot Tesla Stock Graph</li>\n",
    "        <li>Question 6: Plot GameStop Stock Graph</li>\n",
    "    </ul>\n",
    "<p>\n",
    "    Estimated Time Needed: <strong>30 min</strong></p>\n",
    "</div>\n",
    "\n",
    "<hr>\n"
   ]
  },
  {
   "cell_type": "markdown",
   "metadata": {},
   "source": [
    "***Note***:- If you are working Locally using anaconda, please uncomment the following code and execute it.\n"
   ]
  },
  {
   "cell_type": "code",
   "execution_count": 1,
   "metadata": {},
   "outputs": [],
   "source": [
    "#!pip install yfinance==0.2.38\n",
    "#!pip install pandas==2.2.2\n",
    "#!pip install nbformat"
   ]
  },
  {
   "cell_type": "code",
   "execution_count": 2,
   "metadata": {},
   "outputs": [
    {
     "name": "stdout",
     "output_type": "stream",
     "text": [
      "Collecting yfinance\n",
      "  Obtaining dependency information for yfinance from https://files.pythonhosted.org/packages/9c/22/942a97de1f0910e84d1988d4d561b83a4ddae83fb3dc76f7e7288a0337bc/yfinance-0.2.42-py2.py3-none-any.whl.metadata\n",
      "  Downloading yfinance-0.2.42-py2.py3-none-any.whl.metadata (11 kB)\n",
      "Requirement already satisfied: pandas>=1.3.0 in c:\\users\\admin\\appdata\\local\\programs\\python\\python311\\lib\\site-packages (from yfinance) (2.2.2)\n",
      "Requirement already satisfied: numpy>=1.16.5 in c:\\users\\admin\\appdata\\local\\programs\\python\\python311\\lib\\site-packages (from yfinance) (2.1.0)\n",
      "Requirement already satisfied: requests>=2.31 in c:\\users\\admin\\appdata\\local\\programs\\python\\python311\\lib\\site-packages (from yfinance) (2.32.3)\n",
      "Requirement already satisfied: multitasking>=0.0.7 in c:\\users\\admin\\appdata\\local\\programs\\python\\python311\\lib\\site-packages (from yfinance) (0.0.11)\n",
      "Requirement already satisfied: lxml>=4.9.1 in c:\\users\\admin\\appdata\\local\\programs\\python\\python311\\lib\\site-packages (from yfinance) (5.3.0)\n",
      "Requirement already satisfied: platformdirs>=2.0.0 in c:\\users\\admin\\appdata\\local\\programs\\python\\python311\\lib\\site-packages (from yfinance) (4.2.2)\n",
      "Requirement already satisfied: pytz>=2022.5 in c:\\users\\admin\\appdata\\local\\programs\\python\\python311\\lib\\site-packages (from yfinance) (2024.1)\n",
      "Requirement already satisfied: frozendict>=2.3.4 in c:\\users\\admin\\appdata\\local\\programs\\python\\python311\\lib\\site-packages (from yfinance) (2.4.4)\n",
      "Requirement already satisfied: peewee>=3.16.2 in c:\\users\\admin\\appdata\\local\\programs\\python\\python311\\lib\\site-packages (from yfinance) (3.17.6)\n",
      "Requirement already satisfied: beautifulsoup4>=4.11.1 in c:\\users\\admin\\appdata\\local\\programs\\python\\python311\\lib\\site-packages (from yfinance) (4.12.3)\n",
      "Requirement already satisfied: html5lib>=1.1 in c:\\users\\admin\\appdata\\local\\programs\\python\\python311\\lib\\site-packages (from yfinance) (1.1)\n",
      "Requirement already satisfied: soupsieve>1.2 in c:\\users\\admin\\appdata\\local\\programs\\python\\python311\\lib\\site-packages (from beautifulsoup4>=4.11.1->yfinance) (2.5)\n",
      "Requirement already satisfied: six>=1.9 in c:\\users\\admin\\appdata\\local\\programs\\python\\python311\\lib\\site-packages (from html5lib>=1.1->yfinance) (1.16.0)\n",
      "Requirement already satisfied: webencodings in c:\\users\\admin\\appdata\\local\\programs\\python\\python311\\lib\\site-packages (from html5lib>=1.1->yfinance) (0.5.1)\n",
      "Requirement already satisfied: python-dateutil>=2.8.2 in c:\\users\\admin\\appdata\\local\\programs\\python\\python311\\lib\\site-packages (from pandas>=1.3.0->yfinance) (2.9.0.post0)\n",
      "Requirement already satisfied: tzdata>=2022.7 in c:\\users\\admin\\appdata\\local\\programs\\python\\python311\\lib\\site-packages (from pandas>=1.3.0->yfinance) (2024.1)\n",
      "Requirement already satisfied: charset-normalizer<4,>=2 in c:\\users\\admin\\appdata\\local\\programs\\python\\python311\\lib\\site-packages (from requests>=2.31->yfinance) (3.3.2)\n",
      "Requirement already satisfied: idna<4,>=2.5 in c:\\users\\admin\\appdata\\local\\programs\\python\\python311\\lib\\site-packages (from requests>=2.31->yfinance) (3.7)\n",
      "Requirement already satisfied: urllib3<3,>=1.21.1 in c:\\users\\admin\\appdata\\local\\programs\\python\\python311\\lib\\site-packages (from requests>=2.31->yfinance) (2.2.2)\n",
      "Requirement already satisfied: certifi>=2017.4.17 in c:\\users\\admin\\appdata\\local\\programs\\python\\python311\\lib\\site-packages (from requests>=2.31->yfinance) (2024.6.2)\n",
      "Downloading yfinance-0.2.42-py2.py3-none-any.whl (84 kB)\n",
      "   ---------------------------------------- 0.0/84.5 kB ? eta -:--:--\n",
      "   ---- ----------------------------------- 10.2/84.5 kB ? eta -:--:--\n",
      "   -------------- ------------------------- 30.7/84.5 kB 660.6 kB/s eta 0:00:01\n",
      "   ---------------------------------------- 84.5/84.5 kB 951.6 kB/s eta 0:00:00\n",
      "Installing collected packages: yfinance\n",
      "Successfully installed yfinance-0.2.42\n"
     ]
    },
    {
     "name": "stderr",
     "output_type": "stream",
     "text": [
      "\n",
      "[notice] A new release of pip is available: 23.2.1 -> 24.2\n",
      "[notice] To update, run: C:\\Users\\Admin\\AppData\\Local\\Programs\\Python\\Python311\\python.exe -m pip install --upgrade pip\n"
     ]
    },
    {
     "name": "stdout",
     "output_type": "stream",
     "text": [
      "Collecting bs4\n",
      "  Obtaining dependency information for bs4 from https://files.pythonhosted.org/packages/51/bb/bf7aab772a159614954d84aa832c129624ba6c32faa559dfb200a534e50b/bs4-0.0.2-py2.py3-none-any.whl.metadata\n",
      "  Downloading bs4-0.0.2-py2.py3-none-any.whl.metadata (411 bytes)\n",
      "Requirement already satisfied: beautifulsoup4 in c:\\users\\admin\\appdata\\local\\programs\\python\\python311\\lib\\site-packages (from bs4) (4.12.3)\n",
      "Requirement already satisfied: soupsieve>1.2 in c:\\users\\admin\\appdata\\local\\programs\\python\\python311\\lib\\site-packages (from beautifulsoup4->bs4) (2.5)\n",
      "Downloading bs4-0.0.2-py2.py3-none-any.whl (1.2 kB)\n",
      "Installing collected packages: bs4\n",
      "Successfully installed bs4-0.0.2\n"
     ]
    },
    {
     "name": "stderr",
     "output_type": "stream",
     "text": [
      "\n",
      "[notice] A new release of pip is available: 23.2.1 -> 24.2\n",
      "[notice] To update, run: C:\\Users\\Admin\\AppData\\Local\\Programs\\Python\\Python311\\python.exe -m pip install --upgrade pip\n"
     ]
    },
    {
     "name": "stdout",
     "output_type": "stream",
     "text": [
      "Requirement already satisfied: nbformat in c:\\users\\admin\\appdata\\local\\programs\\python\\python311\\lib\\site-packages (5.10.4)\n",
      "Requirement already satisfied: fastjsonschema>=2.15 in c:\\users\\admin\\appdata\\local\\programs\\python\\python311\\lib\\site-packages (from nbformat) (2.20.0)\n",
      "Requirement already satisfied: jsonschema>=2.6 in c:\\users\\admin\\appdata\\local\\programs\\python\\python311\\lib\\site-packages (from nbformat) (4.22.0)\n",
      "Requirement already satisfied: jupyter-core!=5.0.*,>=4.12 in c:\\users\\admin\\appdata\\local\\programs\\python\\python311\\lib\\site-packages (from nbformat) (5.7.2)\n",
      "Requirement already satisfied: traitlets>=5.1 in c:\\users\\admin\\appdata\\local\\programs\\python\\python311\\lib\\site-packages (from nbformat) (5.14.3)\n",
      "Requirement already satisfied: attrs>=22.2.0 in c:\\users\\admin\\appdata\\local\\programs\\python\\python311\\lib\\site-packages (from jsonschema>=2.6->nbformat) (23.2.0)\n",
      "Requirement already satisfied: jsonschema-specifications>=2023.03.6 in c:\\users\\admin\\appdata\\local\\programs\\python\\python311\\lib\\site-packages (from jsonschema>=2.6->nbformat) (2023.12.1)\n",
      "Requirement already satisfied: referencing>=0.28.4 in c:\\users\\admin\\appdata\\local\\programs\\python\\python311\\lib\\site-packages (from jsonschema>=2.6->nbformat) (0.35.1)\n",
      "Requirement already satisfied: rpds-py>=0.7.1 in c:\\users\\admin\\appdata\\local\\programs\\python\\python311\\lib\\site-packages (from jsonschema>=2.6->nbformat) (0.18.1)\n",
      "Requirement already satisfied: platformdirs>=2.5 in c:\\users\\admin\\appdata\\local\\programs\\python\\python311\\lib\\site-packages (from jupyter-core!=5.0.*,>=4.12->nbformat) (4.2.2)\n",
      "Requirement already satisfied: pywin32>=300 in c:\\users\\admin\\appdata\\local\\programs\\python\\python311\\lib\\site-packages (from jupyter-core!=5.0.*,>=4.12->nbformat) (306)\n"
     ]
    },
    {
     "name": "stderr",
     "output_type": "stream",
     "text": [
      "\n",
      "[notice] A new release of pip is available: 23.2.1 -> 24.2\n",
      "[notice] To update, run: C:\\Users\\Admin\\AppData\\Local\\Programs\\Python\\Python311\\python.exe -m pip install --upgrade pip\n"
     ]
    }
   ],
   "source": [
    "!pip install yfinance\n",
    "!pip install bs4\n",
    "!pip install nbformat"
   ]
  },
  {
   "cell_type": "code",
   "execution_count": 6,
   "metadata": {},
   "outputs": [
    {
     "ename": "ModuleNotFoundError",
     "evalue": "No module named 'plotly'",
     "output_type": "error",
     "traceback": [
      "\u001b[1;31m---------------------------------------------------------------------------\u001b[0m",
      "\u001b[1;31mModuleNotFoundError\u001b[0m                       Traceback (most recent call last)",
      "Cell \u001b[1;32mIn[6], line 5\u001b[0m\n\u001b[0;32m      3\u001b[0m \u001b[38;5;28;01mimport\u001b[39;00m \u001b[38;5;21;01mrequests\u001b[39;00m\n\u001b[0;32m      4\u001b[0m \u001b[38;5;28;01mfrom\u001b[39;00m \u001b[38;5;21;01mbs4\u001b[39;00m \u001b[38;5;28;01mimport\u001b[39;00m BeautifulSoup\n\u001b[1;32m----> 5\u001b[0m \u001b[38;5;28;01mimport\u001b[39;00m \u001b[38;5;21;01mplotly\u001b[39;00m\u001b[38;5;21;01m.\u001b[39;00m\u001b[38;5;21;01mgraph_objects\u001b[39;00m \u001b[38;5;28;01mas\u001b[39;00m \u001b[38;5;21;01mgo\u001b[39;00m\n\u001b[0;32m      6\u001b[0m \u001b[38;5;28;01mfrom\u001b[39;00m \u001b[38;5;21;01mplotly\u001b[39;00m\u001b[38;5;21;01m.\u001b[39;00m\u001b[38;5;21;01msubplots\u001b[39;00m \u001b[38;5;28;01mimport\u001b[39;00m make_subplots\n",
      "\u001b[1;31mModuleNotFoundError\u001b[0m: No module named 'plotly'"
     ]
    }
   ],
   "source": [
    "import yfinance as yf\n",
    "import pandas as pd\n",
    "import requests\n",
    "from bs4 import BeautifulSoup\n",
    "import plotly.graph_objects as go\n",
    "from plotly.subplots import make_subplots"
   ]
  },
  {
   "cell_type": "markdown",
   "metadata": {},
   "source": [
    "In Python, you can ignore warnings using the warnings module. You can use the filterwarnings function to filter or ignore specific warning messages or categories.\n"
   ]
  },
  {
   "cell_type": "code",
   "execution_count": 5,
   "metadata": {},
   "outputs": [],
   "source": [
    "import warnings\n",
    "# Ignore all warnings\n",
    "warnings.filterwarnings(\"ignore\", category=FutureWarning)"
   ]
  },
  {
   "cell_type": "markdown",
   "metadata": {},
   "source": [
    "## Define Graphing Function\n"
   ]
  },
  {
   "cell_type": "markdown",
   "metadata": {},
   "source": [
    "In this section, we define the function `make_graph`. **You don't have to know how the function works, you should only care about the inputs. It takes a dataframe with stock data (dataframe must contain Date and Close columns), a dataframe with revenue data (dataframe must contain Date and Revenue columns), and the name of the stock.**\n"
   ]
  },
  {
   "cell_type": "code",
   "execution_count": 1,
   "metadata": {},
   "outputs": [],
   "source": [
    "def make_graph(stock_data, revenue_data, stock):\n",
    "    fig = make_subplots(rows=2, cols=1, shared_xaxes=True, subplot_titles=(\"Historical Share Price\", \"Historical Revenue\"), vertical_spacing = .3)\n",
    "    stock_data_specific = stock_data[stock_data.Date <= '2021--06-14']\n",
    "    revenue_data_specific = revenue_data[revenue_data.Date <= '2021-04-30']\n",
    "    fig.add_trace(go.Scatter(x=pd.to_datetime(stock_data_specific.Date), y=stock_data_specific.Close.astype(\"float\"), name=\"Share Price\"), row=1, col=1)\n",
    "    fig.add_trace(go.Scatter(x=pd.to_datetime(revenue_data_specific.Date), y=revenue_data_specific.Revenue.astype(\"float\"), name=\"Revenue\"), row=2, col=1)\n",
    "    fig.update_xaxes(title_text=\"Date\", row=1, col=1)\n",
    "    fig.update_xaxes(title_text=\"Date\", row=2, col=1)\n",
    "    fig.update_yaxes(title_text=\"Price ($US)\", row=1, col=1)\n",
    "    fig.update_yaxes(title_text=\"Revenue ($US Millions)\", row=2, col=1)\n",
    "    fig.update_layout(showlegend=False,\n",
    "    height=900,\n",
    "    title=stock,\n",
    "    xaxis_rangeslider_visible=True)\n",
    "    fig.show()"
   ]
  },
  {
   "cell_type": "markdown",
   "metadata": {},
   "source": [
    "Use the make_graph function that we’ve already defined. You’ll need to invoke it in questions 5 and 6 to display the graphs and create the dashboard. \n",
    "> **Note: You don’t need to redefine the function for plotting graphs anywhere else in this notebook; just use the existing function.**\n"
   ]
  },
  {
   "cell_type": "markdown",
   "metadata": {},
   "source": [
    "## Question 1: Use yfinance to Extract Stock Data\n"
   ]
  },
  {
   "cell_type": "markdown",
   "metadata": {},
   "source": [
    "Using the `Ticker` function enter the ticker symbol of the stock we want to extract data on to create a ticker object. The stock is Tesla and its ticker symbol is `TSLA`.\n"
   ]
  },
  {
   "cell_type": "code",
   "execution_count": 2,
   "metadata": {},
   "outputs": [
    {
     "name": "stdout",
     "output_type": "stream",
     "text": [
      "                                 Open        High         Low       Close  \\\n",
      "Datetime                                                                    \n",
      "2024-08-23 09:30:00-04:00  214.455002  215.410004  214.210007  214.639297   \n",
      "2024-08-23 09:31:00-04:00  214.525406  215.259995  214.372696  214.889999   \n",
      "2024-08-23 09:32:00-04:00  214.972794  215.979996  214.490005  215.889999   \n",
      "2024-08-23 09:33:00-04:00  215.925003  216.389999  215.500000  216.283798   \n",
      "2024-08-23 09:34:00-04:00  216.285004  216.360001  215.309998  215.869995   \n",
      "\n",
      "                            Volume  Dividends  Stock Splits  \n",
      "Datetime                                                     \n",
      "2024-08-23 09:30:00-04:00  2091931        0.0           0.0  \n",
      "2024-08-23 09:31:00-04:00   497973        0.0           0.0  \n",
      "2024-08-23 09:32:00-04:00   654669        0.0           0.0  \n",
      "2024-08-23 09:33:00-04:00   734171        0.0           0.0  \n",
      "2024-08-23 09:34:00-04:00   551797        0.0           0.0  \n"
     ]
    }
   ],
   "source": [
    "import yfinance as yf\n",
    "\n",
    "# Create a ticker object for Tesla\n",
    "tesla_ticker = yf.Ticker(\"TSLA\")\n",
    "\n",
    "# Get historical data (adjust the period as needed)\n",
    "tesla_data = tesla_ticker.history(period=\"1d\", interval=\"1m\")\n",
    "\n",
    "# Display the first few rows of the data\n",
    "print(tesla_data.head())\n"
   ]
  },
  {
   "cell_type": "markdown",
   "metadata": {},
   "source": [
    "Using the ticker object and the function `history` extract stock information and save it in a dataframe named `tesla_data`. Set the `period` parameter to ` \"max\" ` so we get information for the maximum amount of time.\n"
   ]
  },
  {
   "cell_type": "code",
   "execution_count": 3,
   "metadata": {},
   "outputs": [
    {
     "name": "stdout",
     "output_type": "stream",
     "text": [
      "                               Open      High       Low     Close     Volume  \\\n",
      "Date                                                                           \n",
      "2010-06-29 00:00:00-04:00  1.266667  1.666667  1.169333  1.592667  281494500   \n",
      "2010-06-30 00:00:00-04:00  1.719333  2.028000  1.553333  1.588667  257806500   \n",
      "2010-07-01 00:00:00-04:00  1.666667  1.728000  1.351333  1.464000  123282000   \n",
      "2010-07-02 00:00:00-04:00  1.533333  1.540000  1.247333  1.280000   77097000   \n",
      "2010-07-06 00:00:00-04:00  1.333333  1.333333  1.055333  1.074000  103003500   \n",
      "\n",
      "                           Dividends  Stock Splits  \n",
      "Date                                                \n",
      "2010-06-29 00:00:00-04:00        0.0           0.0  \n",
      "2010-06-30 00:00:00-04:00        0.0           0.0  \n",
      "2010-07-01 00:00:00-04:00        0.0           0.0  \n",
      "2010-07-02 00:00:00-04:00        0.0           0.0  \n",
      "2010-07-06 00:00:00-04:00        0.0           0.0  \n"
     ]
    }
   ],
   "source": [
    "import yfinance as yf\n",
    "import pandas as pd\n",
    "\n",
    "# Create a ticker object for Tesla\n",
    "tesla_ticker = yf.Ticker(\"TSLA\")\n",
    "\n",
    "# Get historical data for the maximum time period\n",
    "tesla_data = tesla_ticker.history(period=\"max\")\n",
    "\n",
    "# Display the first few rows of the data\n",
    "print(tesla_data.head())\n"
   ]
  },
  {
   "cell_type": "markdown",
   "metadata": {},
   "source": [
    "**Reset the index** using the `reset_index(inplace=True)` function on the tesla_data DataFrame and display the first five rows of the `tesla_data` dataframe using the `head` function. Take a screenshot of the results and code from the beginning of Question 1 to the results below.\n"
   ]
  },
  {
   "cell_type": "code",
   "execution_count": 7,
   "metadata": {},
   "outputs": [
    {
     "name": "stdout",
     "output_type": "stream",
     "text": [
      "                       Date      Open      High       Low     Close  \\\n",
      "0 2010-06-29 00:00:00-04:00  1.266667  1.666667  1.169333  1.592667   \n",
      "1 2010-06-30 00:00:00-04:00  1.719333  2.028000  1.553333  1.588667   \n",
      "2 2010-07-01 00:00:00-04:00  1.666667  1.728000  1.351333  1.464000   \n",
      "3 2010-07-02 00:00:00-04:00  1.533333  1.540000  1.247333  1.280000   \n",
      "4 2010-07-06 00:00:00-04:00  1.333333  1.333333  1.055333  1.074000   \n",
      "\n",
      "      Volume  Dividends  Stock Splits  \n",
      "0  281494500        0.0           0.0  \n",
      "1  257806500        0.0           0.0  \n",
      "2  123282000        0.0           0.0  \n",
      "3   77097000        0.0           0.0  \n",
      "4  103003500        0.0           0.0  \n"
     ]
    }
   ],
   "source": [
    "\n",
    "# Reset the index\n",
    "tesla_data.reset_index(inplace=True)\n",
    "\n",
    "# Display the first five rows\n",
    "print(tesla_data.head())\n",
    "\n"
   ]
  },
  {
   "cell_type": "markdown",
   "metadata": {},
   "source": [
    "## Question 2: Use Webscraping to Extract Tesla Revenue Data\n"
   ]
  },
  {
   "cell_type": "markdown",
   "metadata": {},
   "source": [
    "Use the `requests` library to download the webpage https://cf-courses-data.s3.us.cloud-object-storage.appdomain.cloud/IBMDeveloperSkillsNetwork-PY0220EN-SkillsNetwork/labs/project/revenue.htm Save the text of the response as a variable named `html_data`.\n"
   ]
  },
  {
   "cell_type": "code",
   "execution_count": 13,
   "metadata": {},
   "outputs": [
    {
     "name": "stdout",
     "output_type": "stream",
     "text": [
      "\n",
      "<!DOCTYPE html>\n",
      "<!--[if lt IE 7]>      <html class=\"no-js lt-ie9 lt-ie8 lt-ie7\"> <![endif]-->\n",
      "<!--[if IE 7]>         <html class=\"no-js lt-ie9 lt-ie8\"> <![endif]-->\n",
      "<!--[if IE 8]>         <html class=\"no-js lt-ie9\"> <![endif]-->\n",
      "<!--[if gt IE 8]><!--> <html class=\"no-js\"> <!--<![endif]-->\n",
      "    <head>\n",
      "        <meta charset=\"utf-8\">\n",
      "        <meta http-equiv=\"X-UA-Compatible\" content=\"IE=edge,chrome=1\">\n",
      "\t\t<link rel=\"canonical\" href=\"https://www.macrotrends.net/stocks/charts/TSLA/tesla/revenue\" />\n",
      "\t\n"
     ]
    }
   ],
   "source": [
    "import requests\n",
    "\n",
    "# URL of the webpage\n",
    "url = \"https://cf-courses-data.s3.us.cloud-object-storage.appdomain.cloud/IBMDeveloperSkillsNetwork-PY0220EN-SkillsNetwork/labs/project/revenue.htm\"\n",
    "\n",
    "# Make a GET request to the URL\n",
    "response = requests.get(url)\n",
    "\n",
    "# Save the response text as a variable\n",
    "html_data = response.text\n",
    "\n",
    "# Optional: Print the first 500 characters to confirm\n",
    "print(html_data[:500])\n"
   ]
  },
  {
   "cell_type": "markdown",
   "metadata": {},
   "source": [
    "Parse the html data using `beautiful_soup` using parser i.e `html5lib` or `html.parser`. Make sure to use the `html_data` with the content parameter as follow `html_data.content` .\n"
   ]
  },
  {
   "cell_type": "code",
   "execution_count": 14,
   "metadata": {},
   "outputs": [
    {
     "name": "stdout",
     "output_type": "stream",
     "text": [
      "<!DOCTYPE html>\n",
      "<!--[if lt IE 7]>      <html class=\"no-js lt-ie9 lt-ie8 lt-ie7\"> <![endif]-->\n",
      "<!--[if IE 7]>         <html class=\"no-js lt-ie9 lt-ie8\"> <![endif]-->\n",
      "<!--[if IE 8]>         <html class=\"no-js lt-ie9\"> <![endif]-->\n",
      "<!--[if gt IE 8]><!-->\n",
      "<html class=\"no-js\">\n",
      " <!--<![endif]-->\n",
      " <head>\n",
      "  <meta charset=\"utf-8\"/>\n",
      "  <meta content=\"IE=edge,chrome=1\" http-equiv=\"X-UA-Compatible\"/>\n",
      "  <link href=\"https://www.macrotrends.net/stocks/charts/TSLA/tesla/revenue\" rel=\"canonical\"/>\n",
      "  <title>\n",
      "   Te\n"
     ]
    }
   ],
   "source": [
    "import requests\n",
    "from bs4 import BeautifulSoup\n",
    "\n",
    "# URL of the webpage\n",
    "url = \"https://cf-courses-data.s3.us.cloud-object-storage.appdomain.cloud/IBMDeveloperSkillsNetwork-PY0220EN-SkillsNetwork/labs/project/revenue.htm\"\n",
    "\n",
    "# Make a GET request to the URL\n",
    "response = requests.get(url)\n",
    "\n",
    "# Parse the HTML content using BeautifulSoup and html.parser\n",
    "soup = BeautifulSoup(response.content, 'html.parser')\n",
    "\n",
    "# Alternatively, you can use 'html5lib' as the parser\n",
    "# soup = BeautifulSoup(response.content, 'html5lib')\n",
    "\n",
    "# Print out the first 500 characters to verify\n",
    "print(soup.prettify()[:500])\n"
   ]
  },
  {
   "cell_type": "markdown",
   "metadata": {},
   "source": [
    "Using `BeautifulSoup` or the `read_html` function extract the table with `Tesla Revenue` and store it into a dataframe named `tesla_revenue`. The dataframe should have columns `Date` and `Revenue`.\n"
   ]
  },
  {
   "cell_type": "markdown",
   "metadata": {},
   "source": [
    "<details><summary>Step-by-step instructions</summary>\n",
    "\n",
    "```\n",
    "\n",
    "Here are the step-by-step instructions:\n",
    "\n",
    "1. Find All Tables: Start by searching for all HTML tables on a webpage using `soup.find_all('table')`.\n",
    "2. Identify the Relevant Table: then loops through each table. If a table contains the text “Tesla Quarterly Revenue,”, select that table.\n",
    "3. Initialize a DataFrame: Create an empty Pandas DataFrame called `tesla_revenue` with columns “Date” and “Revenue.”\n",
    "4. Loop Through Rows: For each row in the relevant table, extract the data from the first and second columns (date and revenue).\n",
    "5. Clean Revenue Data: Remove dollar signs and commas from the revenue value.\n",
    "6. Add Rows to DataFrame: Create a new row in the DataFrame with the extracted date and cleaned revenue values.\n",
    "7. Repeat for All Rows: Continue this process for all rows in the table.\n",
    "\n",
    "```\n",
    "</details>\n"
   ]
  },
  {
   "cell_type": "markdown",
   "metadata": {},
   "source": [
    "<details><summary>Click here if you need help locating the table</summary>\n",
    "\n",
    "```\n",
    "    \n",
    "Below is the code to isolate the table, you will now need to loop through the rows and columns like in the previous lab\n",
    "    \n",
    "soup.find_all(\"tbody\")[1]\n",
    "    \n",
    "If you want to use the read_html function the table is located at index 1\n",
    "\n",
    "We are focusing on quarterly revenue in the lab.\n",
    "> Note: Instead of using the deprecated pd.append() method, consider using pd.concat([df, pd.DataFrame], ignore_index=True).\n",
    "```\n",
    "\n",
    "</details>\n"
   ]
  },
  {
   "cell_type": "code",
   "execution_count": 15,
   "metadata": {},
   "outputs": [
    {
     "name": "stdout",
     "output_type": "stream",
     "text": [
      "          Date Revenue\n",
      "0   2022-09-30   21454\n",
      "1   2022-06-30   16934\n",
      "2   2022-03-31   18756\n",
      "3   2021-12-31   17719\n",
      "4   2021-09-30   13757\n",
      "5   2021-06-30   11958\n",
      "6   2021-03-31   10389\n",
      "7   2020-12-31   10744\n",
      "8   2020-09-30    8771\n",
      "9   2020-06-30    6036\n",
      "10  2020-03-31    5985\n",
      "11  2019-12-31    7384\n",
      "12  2019-09-30    6303\n",
      "13  2019-06-30    6350\n",
      "14  2019-03-31    4541\n",
      "15  2018-12-31    7226\n",
      "16  2018-09-30    6824\n",
      "17  2018-06-30    4002\n",
      "18  2018-03-31    3409\n",
      "19  2017-12-31    3288\n",
      "20  2017-09-30    2985\n",
      "21  2017-06-30    2790\n",
      "22  2017-03-31    2696\n",
      "23  2016-12-31    2285\n",
      "24  2016-09-30    2298\n",
      "25  2016-06-30    1270\n",
      "26  2016-03-31    1147\n",
      "27  2015-12-31    1214\n",
      "28  2015-09-30     937\n",
      "29  2015-06-30     955\n",
      "30  2015-03-31     940\n",
      "31  2014-12-31     957\n",
      "32  2014-09-30     852\n",
      "33  2014-06-30     769\n",
      "34  2014-03-31     621\n",
      "35  2013-12-31     615\n",
      "36  2013-09-30     431\n",
      "37  2013-06-30     405\n",
      "38  2013-03-31     562\n",
      "39  2012-12-31     306\n",
      "40  2012-09-30      50\n",
      "41  2012-06-30      27\n",
      "42  2012-03-31      30\n",
      "43  2011-12-31      39\n",
      "44  2011-09-30      58\n",
      "45  2011-06-30      58\n",
      "46  2011-03-31      49\n",
      "47  2010-12-31      36\n",
      "48  2010-09-30      31\n",
      "49  2010-06-30      28\n",
      "50  2010-03-31      21\n",
      "51  2009-12-31        \n",
      "52  2009-09-30      46\n",
      "53  2009-06-30      27\n"
     ]
    }
   ],
   "source": [
    "import requests\n",
    "import pandas as pd\n",
    "from bs4 import BeautifulSoup\n",
    "\n",
    "# URL of the webpage\n",
    "url = \"https://cf-courses-data.s3.us.cloud-object-storage.appdomain.cloud/IBMDeveloperSkillsNetwork-PY0220EN-SkillsNetwork/labs/project/revenue.htm\"\n",
    "\n",
    "# Make a GET request to the URL\n",
    "response = requests.get(url)\n",
    "\n",
    "# Parse the HTML content using BeautifulSoup\n",
    "soup = BeautifulSoup(response.content, 'html.parser')\n",
    "\n",
    "# Find all tables on the page\n",
    "tables = soup.find_all('table')\n",
    "\n",
    "# Identify the table that contains Tesla Quarterly Revenue\n",
    "for table in tables:\n",
    "    if \"Tesla Quarterly Revenue\" in table.text:\n",
    "        tesla_table = table\n",
    "        break\n",
    "\n",
    "# Initialize a DataFrame to store the extracted data\n",
    "tesla_revenue = pd.DataFrame(columns=[\"Date\", \"Revenue\"])\n",
    "\n",
    "# Extract all rows in the table\n",
    "rows = tesla_table.find('tbody').find_all('tr')\n",
    "\n",
    "# Loop through the rows and extract the data\n",
    "for row in rows:\n",
    "    cols = row.find_all('td')\n",
    "    date = cols[0].text.strip()\n",
    "    revenue = cols[1].text.strip()\n",
    "\n",
    "    # Clean revenue data by removing dollar signs and commas\n",
    "    revenue = revenue.replace('$', '').replace(',', '')\n",
    "\n",
    "    # Add the extracted data to the DataFrame\n",
    "    tesla_revenue = pd.concat([tesla_revenue, pd.DataFrame({\"Date\": [date], \"Revenue\": [revenue]})], ignore_index=True)\n",
    "\n",
    "# Display the resulting DataFrame\n",
    "print(tesla_revenue)\n"
   ]
  },
  {
   "cell_type": "markdown",
   "metadata": {},
   "source": [
    "Execute the following line to remove the comma and dollar sign from the `Revenue` column. \n"
   ]
  },
  {
   "cell_type": "code",
   "execution_count": 16,
   "metadata": {},
   "outputs": [],
   "source": [
    "tesla_revenue[\"Revenue\"] = tesla_revenue['Revenue'].str.replace(',|\\$',\"\", regex=True)"
   ]
  },
  {
   "cell_type": "markdown",
   "metadata": {},
   "source": [
    "Execute the following lines to remove an null or empty strings in the Revenue column.\n"
   ]
  },
  {
   "cell_type": "code",
   "execution_count": 17,
   "metadata": {},
   "outputs": [],
   "source": [
    "tesla_revenue.dropna(inplace=True)\n",
    "\n",
    "tesla_revenue = tesla_revenue[tesla_revenue['Revenue'] != \"\"]"
   ]
  },
  {
   "cell_type": "markdown",
   "metadata": {},
   "source": [
    "Display the last 5 row of the `tesla_revenue` dataframe using the `tail` function. Take a screenshot of the results.\n"
   ]
  },
  {
   "cell_type": "code",
   "execution_count": 18,
   "metadata": {},
   "outputs": [
    {
     "name": "stdout",
     "output_type": "stream",
     "text": [
      "          Date Revenue\n",
      "48  2010-09-30      31\n",
      "49  2010-06-30      28\n",
      "50  2010-03-31      21\n",
      "52  2009-09-30      46\n",
      "53  2009-06-30      27\n"
     ]
    }
   ],
   "source": [
    "# Display the last 5 rows of the tesla_revenue DataFrame\n",
    "print(tesla_revenue.tail())\n",
    "\n"
   ]
  },
  {
   "cell_type": "markdown",
   "metadata": {},
   "source": [
    "## Question 3: Use yfinance to Extract Stock Data\n"
   ]
  },
  {
   "cell_type": "markdown",
   "metadata": {},
   "source": [
    "Using the `Ticker` function enter the ticker symbol of the stock we want to extract data on to create a ticker object. The stock is GameStop and its ticker symbol is `GME`.\n"
   ]
  },
  {
   "cell_type": "code",
   "execution_count": 19,
   "metadata": {},
   "outputs": [
    {
     "name": "stdout",
     "output_type": "stream",
     "text": [
      "{'address1': '625 Westport Parkway', 'city': 'Grapevine', 'state': 'TX', 'zip': '76051', 'country': 'United States', 'phone': '817 424 2000', 'website': 'https://www.gamestop.com', 'industry': 'Specialty Retail', 'industryKey': 'specialty-retail', 'industryDisp': 'Specialty Retail', 'sector': 'Consumer Cyclical', 'sectorKey': 'consumer-cyclical', 'sectorDisp': 'Consumer Cyclical', 'longBusinessSummary': 'GameStop Corp., a specialty retailer, provides games and entertainment products through its stores and ecommerce platforms in the United States, Canada, Australia, and Europe. The company sells new and pre-owned gaming platforms; accessories, such as controllers, gaming headsets, and virtual reality products; new and pre-owned gaming software; and in-game digital currency, digital downloadable content, and full-game downloads. It sells collectibles comprising apparel, toys, trading cards, gadgets, and other retail products for pop culture and technology enthusiasts, as well as engages in the digital asset wallet and NFT marketplace activities. The company operates stores and ecommerce sites under the GameStop, EB Games, and Micromania brands; and pop culture themed stores that sell collectibles, apparel, gadgets, electronics, toys, and other retail products under the Zing Pop Culture brand, as well as offers Game Informer magazine, a print and digital gaming publication. The company was formerly known as GSC Holdings Corp. GameStop Corp. was founded in 1996 and is headquartered in Grapevine, Texas.', 'fullTimeEmployees': 8000, 'companyOfficers': [{'maxAge': 1, 'name': 'Mr. Ryan  Cohen', 'age': 37, 'title': 'President, CEO & Executive Chairman', 'yearBorn': 1986, 'fiscalYear': 2023, 'exercisedValue': 0, 'unexercisedValue': 0}, {'maxAge': 1, 'name': 'Mr. Daniel William Moore', 'age': 40, 'title': 'Principal Accounting Officer & Principal Financial Officer', 'yearBorn': 1983, 'fiscalYear': 2023, 'totalPay': 277711, 'exercisedValue': 0, 'unexercisedValue': 0}, {'maxAge': 1, 'name': 'Mr. Mark Haymond Robinson', 'age': 45, 'title': 'General Counsel & Secretary', 'yearBorn': 1978, 'fiscalYear': 2023, 'totalPay': 337657, 'exercisedValue': 0, 'unexercisedValue': 0}], 'auditRisk': 8, 'boardRisk': 6, 'compensationRisk': 7, 'shareHolderRightsRisk': 3, 'overallRisk': 5, 'governanceEpochDate': 1722470400, 'compensationAsOfEpochDate': 1703980800, 'irWebsite': 'http://phx.corporate-ir.net/phoenix.zhtml?c=130125&p=irol-irhome', 'maxAge': 86400, 'priceHint': 2, 'previousClose': 22.12, 'open': 22.25, 'dayLow': 22.195, 'dayHigh': 22.62, 'regularMarketPreviousClose': 22.12, 'regularMarketOpen': 22.25, 'regularMarketDayLow': 22.195, 'regularMarketDayHigh': 22.62, 'exDividendDate': 1552521600, 'fiveYearAvgDividendYield': 9.52, 'beta': -0.062, 'trailingPE': 277.625, 'forwardPE': -317.2857, 'volume': 4002027, 'regularMarketVolume': 4002027, 'averageVolume': 36911187, 'averageVolume10days': 3954310, 'averageDailyVolume10Day': 3954310, 'bid': 22.3, 'ask': 22.35, 'bidSize': 1100, 'askSize': 900, 'marketCap': 9466301440, 'fiftyTwoWeekLow': 9.95, 'fiftyTwoWeekHigh': 64.83, 'priceToSalesTrailing12Months': 1.9250232, 'fiftyDayAverage': 23.9856, 'twoHundredDayAverage': 18.0384, 'currency': 'USD', 'enterpriseValue': 7306340864, 'profitMargins': 0.00506, 'floatShares': 319888914, 'sharesOutstanding': 426217984, 'sharesShort': 37925649, 'sharesShortPriorMonth': 41953496, 'sharesShortPreviousMonthDate': 1719532800, 'dateShortInterest': 1722384000, 'sharesPercentSharesOut': 0.088999994, 'heldPercentInsiders': 0.108059995, 'heldPercentInstitutions': 0.28186, 'shortRatio': 2.7, 'shortPercentOfFloat': 0.107700005, 'impliedSharesOutstanding': 426217984, 'bookValue': 4.27, 'priceToBook': 5.201405, 'lastFiscalYearEnd': 1706918400, 'nextFiscalYearEnd': 1738540800, 'mostRecentQuarter': 1714780800, 'netIncomeToCommon': 24900000, 'trailingEps': 0.08, 'forwardEps': -0.07, 'pegRatio': 4.59, 'lastSplitFactor': '4:1', 'lastSplitDate': 1658448000, 'enterpriseToRevenue': 1.486, 'enterpriseToEbitda': 206.394, '52WeekChange': 0.26408648, 'SandP52WeekChange': 0.2709713, 'lastDividendValue': 0.095, 'lastDividendDate': 1552521600, 'exchange': 'NYQ', 'quoteType': 'EQUITY', 'symbol': 'GME', 'underlyingSymbol': 'GME', 'shortName': 'GameStop Corporation', 'longName': 'GameStop Corp.', 'firstTradeDateEpochUtc': 1013610600, 'timeZoneFullName': 'America/New_York', 'timeZoneShortName': 'EDT', 'uuid': '8ded85bd-8171-3e2e-afa6-c81272285147', 'messageBoardId': 'finmb_1342560', 'gmtOffSetMilliseconds': -14400000, 'currentPrice': 22.21, 'targetHighPrice': 11.0, 'targetLowPrice': 5.75, 'targetMeanPrice': 8.38, 'targetMedianPrice': 8.38, 'recommendationMean': 4.5, 'recommendationKey': 'underperform', 'numberOfAnalystOpinions': 2, 'totalCash': 1082899968, 'totalCashPerShare': 3.083, 'ebitda': 35400000, 'totalDebt': 588700032, 'quickRatio': 1.346, 'currentRatio': 2.216, 'totalRevenue': 4917499904, 'debtToEquity': 45.032, 'revenuePerShare': 16.099, 'returnOnAssets': -0.00528, 'returnOnEquity': 0.01931, 'freeCashflow': -271737504, 'operatingCashflow': -210800000, 'revenueGrowth': -0.287, 'grossMargins': 0.25448, 'ebitdaMargins': 0.0072000003, 'operatingMargins': -0.05738, 'financialCurrency': 'USD', 'trailingPegRatio': None}\n"
     ]
    }
   ],
   "source": [
    "import yfinance as yf\n",
    "\n",
    "# Create a Ticker object for GameStop (GME)\n",
    "gme_ticker = yf.Ticker(\"GME\")\n",
    "\n",
    "# Print basic information about the stock\n",
    "print(gme_ticker.info)\n"
   ]
  },
  {
   "cell_type": "markdown",
   "metadata": {},
   "source": [
    "Using the ticker object and the function `history` extract stock information and save it in a dataframe named `gme_data`. Set the `period` parameter to ` \"max\" ` so we get information for the maximum amount of time.\n"
   ]
  },
  {
   "cell_type": "code",
   "execution_count": 20,
   "metadata": {},
   "outputs": [
    {
     "name": "stdout",
     "output_type": "stream",
     "text": [
      "                               Open      High       Low     Close    Volume  \\\n",
      "Date                                                                          \n",
      "2002-02-13 00:00:00-05:00  1.620129  1.693350  1.603296  1.691667  76216000   \n",
      "2002-02-14 00:00:00-05:00  1.712707  1.716074  1.670626  1.683251  11021600   \n",
      "2002-02-15 00:00:00-05:00  1.683250  1.687458  1.658002  1.674834   8389600   \n",
      "2002-02-19 00:00:00-05:00  1.666418  1.666418  1.578047  1.607504   7410400   \n",
      "2002-02-20 00:00:00-05:00  1.615920  1.662210  1.603296  1.662210   6892800   \n",
      "\n",
      "                           Dividends  Stock Splits  \n",
      "Date                                                \n",
      "2002-02-13 00:00:00-05:00        0.0           0.0  \n",
      "2002-02-14 00:00:00-05:00        0.0           0.0  \n",
      "2002-02-15 00:00:00-05:00        0.0           0.0  \n",
      "2002-02-19 00:00:00-05:00        0.0           0.0  \n",
      "2002-02-20 00:00:00-05:00        0.0           0.0  \n"
     ]
    }
   ],
   "source": [
    "import yfinance as yf\n",
    "\n",
    "# Create a Ticker object for GameStop (GME)\n",
    "gme_ticker = yf.Ticker(\"GME\")\n",
    "\n",
    "# Extract the stock history with the maximum available period\n",
    "gme_data = gme_ticker.history(period=\"max\")\n",
    "\n",
    "# Display the first few rows of the data to verify\n",
    "print(gme_data.head())\n"
   ]
  },
  {
   "cell_type": "markdown",
   "metadata": {},
   "source": [
    "**Reset the index** using the `reset_index(inplace=True)` function on the gme_data DataFrame and display the first five rows of the `gme_data` dataframe using the `head` function. Take a screenshot of the results and code from the beginning of Question 3 to the results below.\n"
   ]
  },
  {
   "cell_type": "code",
   "execution_count": 21,
   "metadata": {},
   "outputs": [
    {
     "name": "stdout",
     "output_type": "stream",
     "text": [
      "                       Date      Open      High       Low     Close    Volume  \\\n",
      "0 2002-02-13 00:00:00-05:00  1.620128  1.693349  1.603295  1.691666  76216000   \n",
      "1 2002-02-14 00:00:00-05:00  1.712707  1.716074  1.670626  1.683250  11021600   \n",
      "2 2002-02-15 00:00:00-05:00  1.683250  1.687458  1.658002  1.674834   8389600   \n",
      "3 2002-02-19 00:00:00-05:00  1.666418  1.666418  1.578047  1.607504   7410400   \n",
      "4 2002-02-20 00:00:00-05:00  1.615920  1.662210  1.603296  1.662210   6892800   \n",
      "\n",
      "   Dividends  Stock Splits  \n",
      "0        0.0           0.0  \n",
      "1        0.0           0.0  \n",
      "2        0.0           0.0  \n",
      "3        0.0           0.0  \n",
      "4        0.0           0.0  \n"
     ]
    }
   ],
   "source": [
    "import yfinance as yf\n",
    "\n",
    "# Step 1: Create a Ticker object for GameStop (GME)\n",
    "gme_ticker = yf.Ticker(\"GME\")\n",
    "\n",
    "# Step 2: Extract the stock history with the maximum available period\n",
    "gme_data = gme_ticker.history(period=\"max\")\n",
    "\n",
    "# Step 3: Reset the index of the DataFrame\n",
    "gme_data.reset_index(inplace=True)\n",
    "\n",
    "# Step 4: Display the first five rows of the DataFrame\n",
    "print(gme_data.head())\n"
   ]
  },
  {
   "cell_type": "markdown",
   "metadata": {},
   "source": [
    "## Question 4: Use Webscraping to Extract GME Revenue Data\n"
   ]
  },
  {
   "cell_type": "markdown",
   "metadata": {},
   "source": [
    "Use the `requests` library to download the webpage https://cf-courses-data.s3.us.cloud-object-storage.appdomain.cloud/IBMDeveloperSkillsNetwork-PY0220EN-SkillsNetwork/labs/project/stock.html. Save the text of the response as a variable named `html_data_2`.\n"
   ]
  },
  {
   "cell_type": "code",
   "execution_count": 23,
   "metadata": {},
   "outputs": [
    {
     "name": "stdout",
     "output_type": "stream",
     "text": [
      "<!DOCTYPE html>\n",
      "<!-- saved from url=(0105)https://web.archive.org/web/20200814131437/https://www.macrotrends.net/stocks/charts/GME/gamestop/revenue -->\n",
      "<html class=\" js flexbox canvas canvastext webgl no-touch geolocation postmessage websqldatabase indexeddb hashchange history draganddrop websockets rgba hsla multiplebgs backgroundsize borderimage borderradius boxshadow textshadow opacity cssanimations csscolumns cssgradients cssreflections csstransforms csstransforms3d csstransitions fontface g\n"
     ]
    }
   ],
   "source": [
    "import requests\n",
    "\n",
    "# URL of the webpage to extract GME revenue data\n",
    "url_2 = \"https://cf-courses-data.s3.us.cloud-object-storage.appdomain.cloud/IBMDeveloperSkillsNetwork-PY0220EN-SkillsNetwork/labs/project/stock.html\"\n",
    "\n",
    "# Make a GET request to the URL\n",
    "response_2 = requests.get(url_2)\n",
    "\n",
    "# Save the text of the response as a variable\n",
    "html_data_2 = response_2.text\n",
    "\n",
    "# Optional: Print the first 500 characters to confirm\n",
    "print(html_data_2[:500])\n"
   ]
  },
  {
   "cell_type": "markdown",
   "metadata": {},
   "source": [
    "Parse the html data using `beautiful_soup` using parser i.e `html5lib` or `html.parser`.\n"
   ]
  },
  {
   "cell_type": "code",
   "execution_count": 24,
   "metadata": {},
   "outputs": [
    {
     "name": "stdout",
     "output_type": "stream",
     "text": [
      "<!DOCTYPE html>\n",
      "<!-- saved from url=(0105)https://web.archive.org/web/20200814131437/https://www.macrotrends.net/stocks/charts/GME/gamestop/revenue -->\n",
      "<html class=\"js flexbox canvas canvastext webgl no-touch geolocation postmessage websqldatabase indexeddb hashchange history draganddrop websockets rgba hsla multiplebgs backgroundsize borderimage borderradius boxshadow textshadow opacity cssanimations csscolumns cssgradients cssreflections csstransforms csstransforms3d csstransitions fontface ge\n"
     ]
    }
   ],
   "source": [
    "from bs4 import BeautifulSoup\n",
    "\n",
    "# Parse the HTML data using BeautifulSoup with the html.parser\n",
    "soup_2 = BeautifulSoup(html_data_2, 'html.parser')\n",
    "\n",
    "# Alternatively, you can use the 'html5lib' parser\n",
    "# soup_2 = BeautifulSoup(html_data_2, 'html5lib')\n",
    "\n",
    "# Optional: Print the first 500 characters of the parsed content\n",
    "print(soup_2.prettify()[:500])\n"
   ]
  },
  {
   "cell_type": "markdown",
   "metadata": {},
   "source": [
    "Using `BeautifulSoup` or the `read_html` function extract the table with `GameStop Revenue` and store it into a dataframe named `gme_revenue`. The dataframe should have columns `Date` and `Revenue`. Make sure the comma and dollar sign is removed from the `Revenue` column.\n"
   ]
  },
  {
   "cell_type": "markdown",
   "metadata": {},
   "source": [
    "> **Note: Use the method similar to what you did in question 2.**  \n"
   ]
  },
  {
   "cell_type": "markdown",
   "metadata": {},
   "source": [
    "<details><summary>Click here if you need help locating the table</summary>\n",
    "\n",
    "```\n",
    "    \n",
    "Below is the code to isolate the table, you will now need to loop through the rows and columns like in the previous lab\n",
    "    \n",
    "soup.find_all(\"tbody\")[1]\n",
    "    \n",
    "If you want to use the read_html function the table is located at index 1\n",
    "\n",
    "\n",
    "```\n",
    "\n",
    "</details>\n"
   ]
  },
  {
   "cell_type": "code",
   "execution_count": 25,
   "metadata": {},
   "outputs": [
    {
     "name": "stdout",
     "output_type": "stream",
     "text": [
      "         Date Revenue\n",
      "0  2020-04-30    1021\n",
      "1  2020-01-31    2194\n",
      "2  2019-10-31    1439\n",
      "3  2019-07-31    1286\n",
      "4  2019-04-30    1548\n"
     ]
    }
   ],
   "source": [
    "import requests\n",
    "from bs4 import BeautifulSoup\n",
    "import pandas as pd\n",
    "\n",
    "# URL of the webpage with GameStop revenue data\n",
    "url_2 = \"https://cf-courses-data.s3.us.cloud-object-storage.appdomain.cloud/IBMDeveloperSkillsNetwork-PY0220EN-SkillsNetwork/labs/project/stock.html\"\n",
    "\n",
    "# Make a GET request to download the webpage\n",
    "response_2 = requests.get(url_2)\n",
    "\n",
    "# Parse the HTML content using BeautifulSoup\n",
    "soup_2 = BeautifulSoup(response_2.content, 'html.parser')\n",
    "\n",
    "# Find all tables on the page\n",
    "tables = soup_2.find_all('table')\n",
    "\n",
    "# Locate the correct table (assumed at index 1) with GameStop Revenue data\n",
    "gme_table = tables[1]\n",
    "\n",
    "# Initialize a DataFrame to store the extracted data\n",
    "gme_revenue = pd.DataFrame(columns=[\"Date\", \"Revenue\"])\n",
    "\n",
    "# Extract all rows from the table\n",
    "rows = gme_table.find('tbody').find_all('tr')\n",
    "\n",
    "# Loop through the rows and extract the Date and Revenue columns\n",
    "for row in rows:\n",
    "    cols = row.find_all('td')\n",
    "    date = cols[0].text.strip()\n",
    "    revenue = cols[1].text.strip()\n",
    "\n",
    "    # Clean the revenue data by removing dollar signs and commas\n",
    "    revenue = revenue.replace('$', '').replace(',', '')\n",
    "\n",
    "    # Add the extracted data to the DataFrame\n",
    "    gme_revenue = pd.concat([gme_revenue, pd.DataFrame({\"Date\": [date], \"Revenue\": [revenue]})], ignore_index=True)\n",
    "\n",
    "# Display the resulting DataFrame\n",
    "print(gme_revenue.head())\n"
   ]
  },
  {
   "cell_type": "markdown",
   "metadata": {},
   "source": [
    "Display the last five rows of the `gme_revenue` dataframe using the `tail` function. Take a screenshot of the results.\n"
   ]
  },
  {
   "cell_type": "code",
   "execution_count": 26,
   "metadata": {},
   "outputs": [
    {
     "name": "stdout",
     "output_type": "stream",
     "text": [
      "          Date Revenue\n",
      "57  2006-01-31    1667\n",
      "58  2005-10-31     534\n",
      "59  2005-07-31     416\n",
      "60  2005-04-30     475\n",
      "61  2005-01-31     709\n"
     ]
    }
   ],
   "source": [
    "# Display the last five rows of the gme_revenue DataFrame\n",
    "print(gme_revenue.tail())\n"
   ]
  },
  {
   "cell_type": "markdown",
   "metadata": {},
   "source": [
    "## Question 5: Plot Tesla Stock Graph\n"
   ]
  },
  {
   "cell_type": "markdown",
   "metadata": {},
   "source": [
    "Use the `make_graph` function to graph the Tesla Stock Data, also provide a title for the graph. Note the graph will only show data upto June 2021.\n"
   ]
  },
  {
   "cell_type": "markdown",
   "metadata": {},
   "source": [
    "<details><summary>Hint</summary>\n",
    "\n",
    "```\n",
    "\n",
    "You just need to invoke the make_graph function with the required parameter to print the graphs.The structure to call the `make_graph` function is `make_graph(tesla_data, tesla_revenue, 'Tesla')`.\n",
    "\n",
    "```\n",
    "    \n",
    "</details>\n"
   ]
  },
  {
   "cell_type": "code",
   "execution_count": 38,
   "metadata": {},
   "outputs": [
    {
     "data": {
      "image/png": "[encoded data removed]",
      "text/plain": [
       "<Figure size 1200x600 with 1 Axes>"
      ]
     },
     "metadata": {},
     "output_type": "display_data"
    }
   ],
   "source": [
    "import yfinance as yf\n",
    "import pandas as pd\n",
    "import matplotlib.pyplot as plt\n",
    "\n",
    "# Create a Ticker object for Tesla (TSLA)\n",
    "tesla_ticker = yf.Ticker(\"TSLA\")\n",
    "\n",
    "# Extract the stock history with the maximum available period\n",
    "tesla_data = tesla_ticker.history(period=\"max\")\n",
    "\n",
    "# Assuming tesla_revenue DataFrame is already available and cleaned\n",
    "# Here’s a sample structure for tesla_revenue if you need to recreate it\n",
    "# tesla_revenue = pd.DataFrame({\n",
    "#     \"Date\": [\"2021-01-01\", \"2021-02-01\"],\n",
    "#     \"Revenue\": [1000000, 1200000]\n",
    "# })\n",
    "\n",
    "def make_graph(stock_data, revenue_data, title):\n",
    "    # Filter stock data up to June 2021\n",
    "    stock_data = stock_data[stock_data.index <= '2021-06-30']\n",
    "    \n",
    "    # Create a plot\n",
    "    plt.figure(figsize=(12, 6))\n",
    "    \n",
    "    # Plot stock data\n",
    "    plt.plot(stock_data.index, stock_data['Close'], label='Closing Price', color='blue')\n",
    "    \n",
    "    # Plot revenue data\n",
    "    plt.bar(pd.to_datetime(revenue_data['Date']), revenue_data['Revenue'].astype(float), color='orange', alpha=0.5, label='Revenue')\n",
    "    \n",
    "    # Formatting the plot\n",
    "    plt.title(f'{title} Stock Data and Revenue')\n",
    "    plt.xlabel('Date')\n",
    "    plt.ylabel('Value')\n",
    "    plt.legend()\n",
    "    plt.xticks(rotation=45)\n",
    "    plt.grid(True)\n",
    "    \n",
    "    plt.tight_layout()\n",
    "    plt.show()\n",
    "\n",
    "# Example call to the function\n",
    "make_graph(tesla_data, tesla_revenue, 'Tesla')\n"
   ]
  },
  {
   "cell_type": "markdown",
   "metadata": {},
   "source": [
    "## Question 6: Plot GameStop Stock Graph\n"
   ]
  },
  {
   "cell_type": "markdown",
   "metadata": {},
   "source": [
    "Use the `make_graph` function to graph the GameStop Stock Data, also provide a title for the graph. The structure to call the `make_graph` function is `make_graph(gme_data, gme_revenue, 'GameStop')`. Note the graph will only show data upto June 2021.\n"
   ]
  },
  {
   "cell_type": "markdown",
   "metadata": {},
   "source": [
    "<details><summary>Hint</summary>\n",
    "\n",
    "```\n",
    "\n",
    "You just need to invoke the make_graph function with the required parameter to print the graphs.The structure to call the `make_graph` function is `make_graph(gme_data, gme_revenue, 'GameStop')`\n",
    "\n",
    "```\n",
    "    \n",
    "</details>\n"
   ]
  },
  {
   "cell_type": "code",
   "execution_count": 39,
   "metadata": {},
   "outputs": [
    {
     "data": {
      "image/png": "[encoded data removed]",
      "text/plain": [
       "<Figure size 1200x600 with 1 Axes>"
      ]
     },
     "metadata": {},
     "output_type": "display_data"
    }
   ],
   "source": [
    "import yfinance as yf\n",
    "import pandas as pd\n",
    "import matplotlib.pyplot as plt\n",
    "\n",
    "# Create a Ticker object for GameStop (GME)\n",
    "gme_ticker = yf.Ticker(\"GME\")\n",
    "\n",
    "# Extract the stock history with the maximum available period\n",
    "gme_data = gme_ticker.history(period=\"max\")\n",
    "\n",
    "# Assuming gme_revenue DataFrame is already available and cleaned\n",
    "# Here’s a sample structure for gme_revenue if you need to recreate it\n",
    "# gme_revenue = pd.DataFrame({\n",
    "#     \"Date\": [\"2021-01-01\", \"2021-02-01\"],\n",
    "#     \"Revenue\": [500000, 600000]\n",
    "# })\n",
    "\n",
    "def make_graph(stock_data, revenue_data, title):\n",
    "    # Filter stock data up to June 2021\n",
    "    stock_data = stock_data[stock_data.index <= '2021-06-30']\n",
    "    \n",
    "    # Create a plot\n",
    "    plt.figure(figsize=(12, 6))\n",
    "    \n",
    "    # Plot stock data\n",
    "    plt.plot(stock_data.index, stock_data['Close'], label='Closing Price', color='blue')\n",
    "    \n",
    "    # Plot revenue data\n",
    "    plt.bar(pd.to_datetime(revenue_data['Date']), revenue_data['Revenue'].astype(float), color='orange', alpha=0.5, label='Revenue')\n",
    "    \n",
    "    # Formatting the plot\n",
    "    plt.title(f'{title} Stock Data and Revenue')\n",
    "    plt.xlabel('Date')\n",
    "    plt.ylabel('Value')\n",
    "    plt.legend()\n",
    "    plt.xticks(rotation=45)\n",
    "    plt.grid(True)\n",
    "    \n",
    "    plt.tight_layout()\n",
    "    plt.show()\n",
    "\n",
    "# Example call to the function\n",
    "make_graph(gme_data, gme_revenue, 'GameStop')\n"
   ]
  },
  {
   "cell_type": "code",
   "execution_count": null,
   "metadata": {},
   "outputs": [],
   "source": []
  },
  {
   "cell_type": "markdown",
   "metadata": {},
   "source": [
    "<h2>About the Authors:</h2> \n",
    "\n",
    "<a href=\"https://www.linkedin.com/in/joseph-s-50398b136/\">Joseph Santarcangelo</a> has a PhD in Electrical Engineering, his research focused on using machine learning, signal processing, and computer vision to determine how videos impact human cognition. Joseph has been working for IBM since he completed his PhD.\n"
   ]
  },
  {
   "cell_type": "markdown",
   "metadata": {},
   "source": [
    "## <h3 align=\"center\"> © IBM Corporation 2020. All rights reserved. <h3/>\n",
    "\n",
    "```toggle ## Change Log\n",
    "```\n",
    "```toggle | Date (YYYY-MM-DD) | Version | Changed By    | Change Description        |\n",
    "```\n",
    "```toggle | ----------------- | ------- | ------------- | ------------------------- |\n",
    "```\n",
    "```toggle | 2022-02-28        | 1.2     | Lakshmi Holla | Changed the URL of GameStop |\n",
    "```\n",
    "```toggle | 2020-11-10        | 1.1     | Malika Singla | Deleted the Optional part |\n",
    "```\n",
    "```toggle | 2020-08-27        | 1.0     | Malika Singla | Added lab to GitLab       |\n",
    "```\n"
   ]
  }
 ],
 "metadata": {
  "kernelspec": {
   "display_name": "Python 3 (ipykernel)",
   "language": "python",
   "name": "python3"
  },
  "language_info": {
   "codemirror_mode": {
    "name": "ipython",
    "version": 3
   },
   "file_extension": ".py",
   "mimetype": "text/x-python",
   "name": "python",
   "nbconvert_exporter": "python",
   "pygments_lexer": "ipython3",
   "version": "3.11.5"
  },
  "prev_pub_hash": "3eff379447b11bb93fcfe9128340484c280bbca92c51ece98405a1f05537425b"
 },
 "nbformat": 4,
 "nbformat_minor": 4
}
